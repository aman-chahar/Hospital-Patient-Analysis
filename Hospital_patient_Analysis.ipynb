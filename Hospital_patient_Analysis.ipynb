{
 "cells": [
  {
   "cell_type": "markdown",
   "metadata": {},
   "source": [
    "# Hospital Patient Analysis"
   ]
  },
  {
   "cell_type": "markdown",
   "metadata": {},
   "source": [
    "### Introduction\n",
    "\n",
    "In this assignment, you will perform a comprehensive analysis of\n",
    "hospital patient data using three CSV files: drug_code.csv,\n",
    "diagnostic_code.csv, and patient_data.csv. The goal of this analysis is\n",
    "to gain insights into patient demographics, drug prescriptions,\n",
    "diagnoses, and mortality rates. You will answer a series of questions\n",
    "and enhance the assignment with more visualizations.\n",
    "Dataset Description\n",
    "drug_code.csv: Contains information about different drug codes,\n",
    "including their descriptions and severity levels.\n",
    "diagnostic_code.csv: Contains diagnostic codes (ICD-9 codes)\n",
    "along with their descriptions and severity levels.\n",
    "patient_data.csv: Contains patient information, including subject\n",
    "IDs, genders, ages, drug prescriptions, and diagnostic codes."
   ]
  },
  {
   "cell_type": "markdown",
   "metadata": {},
   "source": [
    "### Importing required libraries"
   ]
  },
  {
   "cell_type": "code",
   "execution_count": 55,
   "metadata": {
    "id": "ayg4eOjWLZms"
   },
   "outputs": [],
   "source": [
    "import pandas as pd\n",
    "import numpy as np\n",
    "import matplotlib.pyplot as plt\n",
    "import seaborn as sns"
   ]
  },
  {
   "cell_type": "markdown",
   "metadata": {},
   "source": [
    "### Loading Datasets"
   ]
  },
  {
   "cell_type": "code",
   "execution_count": 56,
   "metadata": {
    "id": "Zt33ZE5IL7yJ"
   },
   "outputs": [],
   "source": [
    "diagnostic_data= pd.read_csv(\"diagnostic_code.csv\")\n",
    "drug_data = pd.read_csv(\"drug_code.csv\")\n",
    "patient_data = pd.read_csv(\"patient_data.csv\")"
   ]
  },
  {
   "cell_type": "markdown",
   "metadata": {},
   "source": [
    "### Quick look on diagnostic_data"
   ]
  },
  {
   "cell_type": "code",
   "execution_count": 57,
   "metadata": {
    "colab": {
     "base_uri": "https://localhost:8080/",
     "height": 206
    },
    "id": "BWZb89atMGux",
    "outputId": "438efd22-78b9-42ac-c773-2e9936479aeb"
   },
   "outputs": [
    {
     "data": {
      "text/html": [
       "<div>\n",
       "<style scoped>\n",
       "    .dataframe tbody tr th:only-of-type {\n",
       "        vertical-align: middle;\n",
       "    }\n",
       "\n",
       "    .dataframe tbody tr th {\n",
       "        vertical-align: top;\n",
       "    }\n",
       "\n",
       "    .dataframe thead th {\n",
       "        text-align: right;\n",
       "    }\n",
       "</style>\n",
       "<table border=\"1\" class=\"dataframe\">\n",
       "  <thead>\n",
       "    <tr style=\"text-align: right;\">\n",
       "      <th></th>\n",
       "      <th>row_id</th>\n",
       "      <th>subject_id</th>\n",
       "      <th>hadm_id</th>\n",
       "      <th>seq_num</th>\n",
       "      <th>icd9_code</th>\n",
       "    </tr>\n",
       "  </thead>\n",
       "  <tbody>\n",
       "    <tr>\n",
       "      <th>0</th>\n",
       "      <td>1</td>\n",
       "      <td>13</td>\n",
       "      <td>1521</td>\n",
       "      <td>3</td>\n",
       "      <td>D66</td>\n",
       "    </tr>\n",
       "    <tr>\n",
       "      <th>1</th>\n",
       "      <td>2</td>\n",
       "      <td>64</td>\n",
       "      <td>1782</td>\n",
       "      <td>1</td>\n",
       "      <td>D80</td>\n",
       "    </tr>\n",
       "    <tr>\n",
       "      <th>2</th>\n",
       "      <td>3</td>\n",
       "      <td>17</td>\n",
       "      <td>1272</td>\n",
       "      <td>3</td>\n",
       "      <td>D81</td>\n",
       "    </tr>\n",
       "    <tr>\n",
       "      <th>3</th>\n",
       "      <td>4</td>\n",
       "      <td>9</td>\n",
       "      <td>1935</td>\n",
       "      <td>2</td>\n",
       "      <td>D48</td>\n",
       "    </tr>\n",
       "    <tr>\n",
       "      <th>4</th>\n",
       "      <td>5</td>\n",
       "      <td>41</td>\n",
       "      <td>1401</td>\n",
       "      <td>2</td>\n",
       "      <td>D48</td>\n",
       "    </tr>\n",
       "  </tbody>\n",
       "</table>\n",
       "</div>"
      ],
      "text/plain": [
       "   row_id  subject_id  hadm_id  seq_num icd9_code\n",
       "0       1          13     1521        3       D66\n",
       "1       2          64     1782        1       D80\n",
       "2       3          17     1272        3       D81\n",
       "3       4           9     1935        2       D48\n",
       "4       5          41     1401        2       D48"
      ]
     },
     "execution_count": 57,
     "metadata": {},
     "output_type": "execute_result"
    }
   ],
   "source": [
    "diagnostic_data.head()"
   ]
  },
  {
   "cell_type": "code",
   "execution_count": 58,
   "metadata": {
    "colab": {
     "base_uri": "https://localhost:8080/"
    },
    "id": "k6W0-zF7NpE0",
    "outputId": "97a8a758-9f5e-4f08-a3b0-e62f0cc94ef5"
   },
   "outputs": [
    {
     "name": "stdout",
     "output_type": "stream",
     "text": [
      "<class 'pandas.core.frame.DataFrame'>\n",
      "RangeIndex: 100 entries, 0 to 99\n",
      "Data columns (total 5 columns):\n",
      " #   Column      Non-Null Count  Dtype \n",
      "---  ------      --------------  ----- \n",
      " 0   row_id      100 non-null    int64 \n",
      " 1   subject_id  100 non-null    int64 \n",
      " 2   hadm_id     100 non-null    int64 \n",
      " 3   seq_num     100 non-null    int64 \n",
      " 4   icd9_code   100 non-null    object\n",
      "dtypes: int64(4), object(1)\n",
      "memory usage: 4.0+ KB\n"
     ]
    }
   ],
   "source": [
    "diagnostic_data.info()"
   ]
  },
  {
   "cell_type": "markdown",
   "metadata": {},
   "source": [
    "### Quick look on drug_data"
   ]
  },
  {
   "cell_type": "code",
   "execution_count": 59,
   "metadata": {
    "colab": {
     "base_uri": "https://localhost:8080/",
     "height": 206
    },
    "id": "3bhxbVlrMvD5",
    "outputId": "8e2e9421-6479-4dbd-f172-48690a1101e2"
   },
   "outputs": [
    {
     "data": {
      "text/html": [
       "<div>\n",
       "<style scoped>\n",
       "    .dataframe tbody tr th:only-of-type {\n",
       "        vertical-align: middle;\n",
       "    }\n",
       "\n",
       "    .dataframe tbody tr th {\n",
       "        vertical-align: top;\n",
       "    }\n",
       "\n",
       "    .dataframe thead th {\n",
       "        text-align: right;\n",
       "    }\n",
       "</style>\n",
       "<table border=\"1\" class=\"dataframe\">\n",
       "  <thead>\n",
       "    <tr style=\"text-align: right;\">\n",
       "      <th></th>\n",
       "      <th>row_id</th>\n",
       "      <th>subject_id</th>\n",
       "      <th>hadm_id</th>\n",
       "      <th>drg_type</th>\n",
       "      <th>drg_code</th>\n",
       "      <th>description</th>\n",
       "      <th>drg_severity</th>\n",
       "      <th>drg_mortality</th>\n",
       "    </tr>\n",
       "  </thead>\n",
       "  <tbody>\n",
       "    <tr>\n",
       "      <th>0</th>\n",
       "      <td>1</td>\n",
       "      <td>97</td>\n",
       "      <td>1669</td>\n",
       "      <td>Type A</td>\n",
       "      <td>101</td>\n",
       "      <td>Drug 1</td>\n",
       "      <td>High</td>\n",
       "      <td>Low</td>\n",
       "    </tr>\n",
       "    <tr>\n",
       "      <th>1</th>\n",
       "      <td>2</td>\n",
       "      <td>36</td>\n",
       "      <td>1632</td>\n",
       "      <td>Type B</td>\n",
       "      <td>134</td>\n",
       "      <td>Drug 2</td>\n",
       "      <td>Medium</td>\n",
       "      <td>Low</td>\n",
       "    </tr>\n",
       "    <tr>\n",
       "      <th>2</th>\n",
       "      <td>3</td>\n",
       "      <td>3</td>\n",
       "      <td>1054</td>\n",
       "      <td>Type A</td>\n",
       "      <td>181</td>\n",
       "      <td>Drug 3</td>\n",
       "      <td>Medium</td>\n",
       "      <td>Medium</td>\n",
       "    </tr>\n",
       "    <tr>\n",
       "      <th>3</th>\n",
       "      <td>4</td>\n",
       "      <td>73</td>\n",
       "      <td>1911</td>\n",
       "      <td>Type A</td>\n",
       "      <td>177</td>\n",
       "      <td>Drug 4</td>\n",
       "      <td>High</td>\n",
       "      <td>Low</td>\n",
       "    </tr>\n",
       "    <tr>\n",
       "      <th>4</th>\n",
       "      <td>5</td>\n",
       "      <td>8</td>\n",
       "      <td>1011</td>\n",
       "      <td>Type A</td>\n",
       "      <td>119</td>\n",
       "      <td>Drug 5</td>\n",
       "      <td>High</td>\n",
       "      <td>Medium</td>\n",
       "    </tr>\n",
       "  </tbody>\n",
       "</table>\n",
       "</div>"
      ],
      "text/plain": [
       "   row_id  subject_id  hadm_id drg_type  drg_code description drg_severity  \\\n",
       "0       1          97     1669   Type A       101      Drug 1         High   \n",
       "1       2          36     1632   Type B       134      Drug 2       Medium   \n",
       "2       3           3     1054   Type A       181      Drug 3       Medium   \n",
       "3       4          73     1911   Type A       177      Drug 4         High   \n",
       "4       5           8     1011   Type A       119      Drug 5         High   \n",
       "\n",
       "  drg_mortality  \n",
       "0           Low  \n",
       "1           Low  \n",
       "2        Medium  \n",
       "3           Low  \n",
       "4        Medium  "
      ]
     },
     "execution_count": 59,
     "metadata": {},
     "output_type": "execute_result"
    }
   ],
   "source": [
    "drug_data.head()"
   ]
  },
  {
   "cell_type": "code",
   "execution_count": 60,
   "metadata": {
    "colab": {
     "base_uri": "https://localhost:8080/"
    },
    "id": "kgZ38l61NuSG",
    "outputId": "ff940aa7-aa1e-4546-fa70-44471787bd03"
   },
   "outputs": [
    {
     "name": "stdout",
     "output_type": "stream",
     "text": [
      "<class 'pandas.core.frame.DataFrame'>\n",
      "RangeIndex: 50 entries, 0 to 49\n",
      "Data columns (total 8 columns):\n",
      " #   Column         Non-Null Count  Dtype \n",
      "---  ------         --------------  ----- \n",
      " 0   row_id         50 non-null     int64 \n",
      " 1   subject_id     50 non-null     int64 \n",
      " 2   hadm_id        50 non-null     int64 \n",
      " 3   drg_type       50 non-null     object\n",
      " 4   drg_code       50 non-null     int64 \n",
      " 5   description    50 non-null     object\n",
      " 6   drg_severity   50 non-null     object\n",
      " 7   drg_mortality  50 non-null     object\n",
      "dtypes: int64(4), object(4)\n",
      "memory usage: 3.2+ KB\n"
     ]
    }
   ],
   "source": [
    "drug_data.info()"
   ]
  },
  {
   "cell_type": "markdown",
   "metadata": {},
   "source": [
    "### Quick look on patient data"
   ]
  },
  {
   "cell_type": "code",
   "execution_count": 61,
   "metadata": {
    "colab": {
     "base_uri": "https://localhost:8080/",
     "height": 206
    },
    "id": "1k6ZOANRNBaM",
    "outputId": "dfe2c8cd-0c94-4696-ff2f-5cac498d6f3c"
   },
   "outputs": [
    {
     "data": {
      "text/html": [
       "<div>\n",
       "<style scoped>\n",
       "    .dataframe tbody tr th:only-of-type {\n",
       "        vertical-align: middle;\n",
       "    }\n",
       "\n",
       "    .dataframe tbody tr th {\n",
       "        vertical-align: top;\n",
       "    }\n",
       "\n",
       "    .dataframe thead th {\n",
       "        text-align: right;\n",
       "    }\n",
       "</style>\n",
       "<table border=\"1\" class=\"dataframe\">\n",
       "  <thead>\n",
       "    <tr style=\"text-align: right;\">\n",
       "      <th></th>\n",
       "      <th>row_id</th>\n",
       "      <th>subject_id</th>\n",
       "      <th>gender</th>\n",
       "      <th>expire_flag</th>\n",
       "    </tr>\n",
       "  </thead>\n",
       "  <tbody>\n",
       "    <tr>\n",
       "      <th>0</th>\n",
       "      <td>1</td>\n",
       "      <td>70</td>\n",
       "      <td>M</td>\n",
       "      <td>0</td>\n",
       "    </tr>\n",
       "    <tr>\n",
       "      <th>1</th>\n",
       "      <td>2</td>\n",
       "      <td>83</td>\n",
       "      <td>M</td>\n",
       "      <td>0</td>\n",
       "    </tr>\n",
       "    <tr>\n",
       "      <th>2</th>\n",
       "      <td>3</td>\n",
       "      <td>30</td>\n",
       "      <td>F</td>\n",
       "      <td>0</td>\n",
       "    </tr>\n",
       "    <tr>\n",
       "      <th>3</th>\n",
       "      <td>4</td>\n",
       "      <td>71</td>\n",
       "      <td>M</td>\n",
       "      <td>0</td>\n",
       "    </tr>\n",
       "    <tr>\n",
       "      <th>4</th>\n",
       "      <td>5</td>\n",
       "      <td>74</td>\n",
       "      <td>F</td>\n",
       "      <td>0</td>\n",
       "    </tr>\n",
       "  </tbody>\n",
       "</table>\n",
       "</div>"
      ],
      "text/plain": [
       "   row_id  subject_id gender  expire_flag\n",
       "0       1          70      M            0\n",
       "1       2          83      M            0\n",
       "2       3          30      F            0\n",
       "3       4          71      M            0\n",
       "4       5          74      F            0"
      ]
     },
     "execution_count": 61,
     "metadata": {},
     "output_type": "execute_result"
    }
   ],
   "source": [
    "patient_data.head()"
   ]
  },
  {
   "cell_type": "code",
   "execution_count": 62,
   "metadata": {
    "colab": {
     "base_uri": "https://localhost:8080/"
    },
    "id": "t1duWIUwNYuZ",
    "outputId": "6f2d39bf-648f-4f9d-cfd3-42b863f9ed25"
   },
   "outputs": [
    {
     "name": "stdout",
     "output_type": "stream",
     "text": [
      "<class 'pandas.core.frame.DataFrame'>\n",
      "RangeIndex: 200 entries, 0 to 199\n",
      "Data columns (total 4 columns):\n",
      " #   Column       Non-Null Count  Dtype \n",
      "---  ------       --------------  ----- \n",
      " 0   row_id       200 non-null    int64 \n",
      " 1   subject_id   200 non-null    int64 \n",
      " 2   gender       200 non-null    object\n",
      " 3   expire_flag  200 non-null    int64 \n",
      "dtypes: int64(3), object(1)\n",
      "memory usage: 6.4+ KB\n"
     ]
    }
   ],
   "source": [
    "patient_data.info()"
   ]
  },
  {
   "cell_type": "markdown",
   "metadata": {
    "id": "Swy8zPqbXlWf"
   },
   "source": [
    "# Question 1: Identifying High-Risk Patients.\n",
    "### Identify all the patients who were prescribed drugs with a high severity level and had a high mortality rate. Return a list of subject IDs and their genders for these high-risk patients.\n",
    "\n",
    "\n"
   ]
  },
  {
   "cell_type": "code",
   "execution_count": 63,
   "metadata": {
    "colab": {
     "base_uri": "https://localhost:8080/"
    },
    "id": "A5-sTwo9Zj2w",
    "outputId": "6b9e2138-8046-40d9-eff8-4a692a535ce3"
   },
   "outputs": [
    {
     "name": "stdout",
     "output_type": "stream",
     "text": [
      "High Risk Patients List : \n",
      " [[98, 'M'], [68, 'F'], [68, 'F'], [32, 'M'], [98, 'F'], [98, 'F'], [32, 'M'], [2, 'F'], [44, 'M'], [2, 'F'], [32, 'M'], [32, 'M'], [32, 'M'], [97, 'M'], [2, 'M'], [97, 'M'], [98, 'M'], [44, 'F']]\n"
     ]
    }
   ],
   "source": [
    "# Extracting subject IDs and genders of high-risk patients\n",
    "\n",
    "high_risk_patients = patient_data[\n",
    "    (patient_data['subject_id'].isin(drug_data[drug_data['drg_severity'] == 'High']['subject_id'])) &\n",
    "    (patient_data['subject_id'].isin(drug_data[drug_data['drg_mortality'] == 'High']['subject_id']))  ]\n",
    "\n",
    "high_risk_patient_list = high_risk_patients[['subject_id', 'gender']].values.tolist()\n",
    "print(f\"High Risk Patients List : \\n {high_risk_patient_list}\")"
   ]
  },
  {
   "cell_type": "markdown",
   "metadata": {
    "id": "NqCzn8IQZrvo"
   },
   "source": [
    "# Question 2: Gender Distribution among Expired Patients.\n",
    "### Calculate the distribution of genders (male, female) among patients who have expired. Provide the percentage of male and female patients among the expired cases. Visualize this distribution using a pie chart."
   ]
  },
  {
   "cell_type": "code",
   "execution_count": 64,
   "metadata": {
    "colab": {
     "base_uri": "https://localhost:8080/",
     "height": 521
    },
    "id": "fRjBeYpfV3WZ",
    "outputId": "4fcd00a6-06be-49d6-f503-3551e63d7f1c"
   },
   "outputs": [
    {
     "data": {
      "image/png": "[encoded data removed]",
      "text/plain": [
       "<Figure size 800x800 with 1 Axes>"
      ]
     },
     "metadata": {},
     "output_type": "display_data"
    }
   ],
   "source": [
    "# Extracting subject IDs of expired patients\n",
    "expired_patients = patient_data[patient_data['expire_flag'] == 1]\n",
    "\n",
    "# Calculating gender distribution among expired patients\n",
    "expired_gender_dist = expired_patients['gender'].value_counts(normalize=True)\n",
    "\n",
    "# Setting Seaborn style\n",
    "sns.set(style=\"whitegrid\")\n",
    "\n",
    "# Plotting the distribution using a pie chart.\n",
    "plt.figure(figsize=(8, 8))\n",
    "plt.pie(expired_gender_dist, labels=expired_gender_dist.index, autopct='%1.1f%%', colors=sns.color_palette())\n",
    "plt.title('Gender Distribution among Expired Patients')\n",
    "plt.show()"
   ]
  },
  {
   "cell_type": "markdown",
   "metadata": {
    "id": "cdFUDyGdcaiX"
   },
   "source": [
    "# Question 3: Common Diagnoses for High-Risk Patients\n",
    "### Among the high-risk patients identified in Question 1, determine the most common ICD-9 diagnosis codes. Return the top 3 most common diagnosis codes along with their counts."
   ]
  },
  {
   "cell_type": "code",
   "execution_count": 65,
   "metadata": {
    "colab": {
     "base_uri": "https://localhost:8080/"
    },
    "id": "XR9GnHMQchjy",
    "outputId": "650559e5-9cb8-489d-fa4a-a4adda4c9d97"
   },
   "outputs": [
    {
     "name": "stdout",
     "output_type": "stream",
     "text": [
      "Top 3 Most Common Diagnosis Codes for High-Risk Patients :\n",
      "D98    1\n",
      "D30    1\n",
      "D51    1\n",
      "Name: icd9_code, dtype: int64\n"
     ]
    }
   ],
   "source": [
    "# Filtering high-risk patients identified in Question 1\n",
    "high_risk_subjects = high_risk_patients['subject_id']\n",
    "\n",
    "# Filtering diagnostic codes for high-risk patients\n",
    "high_risk_diagnoses = diagnostic_data[diagnostic_data['subject_id'].isin(high_risk_subjects)]\n",
    "\n",
    "# Counting the occurrences of each diagnosis code\n",
    "common_diagnoses = high_risk_diagnoses['icd9_code'].value_counts()\n",
    "\n",
    "# Getting the top 3 most common diagnosis codes\n",
    "top_common_diagnoses = common_diagnoses.head(3)\n",
    "\n",
    "print(\"Top 3 Most Common Diagnosis Codes for High-Risk Patients :\")\n",
    "print(top_common_diagnoses)"
   ]
  },
  {
   "cell_type": "markdown",
   "metadata": {
    "id": "xqEpd6sldaWG"
   },
   "source": [
    "# Question 4: Mortality Rate by Diagnosis Type\n",
    "### Calculate the mortality rate for each diagnosis type (ICD-9 code). Return a list of diagnosis types with their corresponding mortality rates (number of deaths divided by the number of patients with that diagnosis type). Visualize this information using a bar chart."
   ]
  },
  {
   "cell_type": "code",
   "execution_count": 66,
   "metadata": {
    "colab": {
     "base_uri": "https://localhost:8080/",
     "height": 206
    },
    "id": "2GMZne1_ts-a",
    "outputId": "ba00bec9-d5db-43b8-e057-acf0c952c12f"
   },
   "outputs": [
    {
     "data": {
      "text/html": [
       "<div>\n",
       "<style scoped>\n",
       "    .dataframe tbody tr th:only-of-type {\n",
       "        vertical-align: middle;\n",
       "    }\n",
       "\n",
       "    .dataframe tbody tr th {\n",
       "        vertical-align: top;\n",
       "    }\n",
       "\n",
       "    .dataframe thead th {\n",
       "        text-align: right;\n",
       "    }\n",
       "</style>\n",
       "<table border=\"1\" class=\"dataframe\">\n",
       "  <thead>\n",
       "    <tr style=\"text-align: right;\">\n",
       "      <th></th>\n",
       "      <th>icd9_code</th>\n",
       "      <th>total_patients</th>\n",
       "    </tr>\n",
       "  </thead>\n",
       "  <tbody>\n",
       "    <tr>\n",
       "      <th>0</th>\n",
       "      <td>D10</td>\n",
       "      <td>1</td>\n",
       "    </tr>\n",
       "    <tr>\n",
       "      <th>1</th>\n",
       "      <td>D11</td>\n",
       "      <td>2</td>\n",
       "    </tr>\n",
       "    <tr>\n",
       "      <th>2</th>\n",
       "      <td>D12</td>\n",
       "      <td>2</td>\n",
       "    </tr>\n",
       "    <tr>\n",
       "      <th>3</th>\n",
       "      <td>D13</td>\n",
       "      <td>2</td>\n",
       "    </tr>\n",
       "    <tr>\n",
       "      <th>4</th>\n",
       "      <td>D14</td>\n",
       "      <td>1</td>\n",
       "    </tr>\n",
       "    <tr>\n",
       "      <th>5</th>\n",
       "      <td>D15</td>\n",
       "      <td>1</td>\n",
       "    </tr>\n",
       "    <tr>\n",
       "      <th>6</th>\n",
       "      <td>D16</td>\n",
       "      <td>1</td>\n",
       "    </tr>\n",
       "    <tr>\n",
       "      <th>7</th>\n",
       "      <td>D18</td>\n",
       "      <td>1</td>\n",
       "    </tr>\n",
       "    <tr>\n",
       "      <th>8</th>\n",
       "      <td>D19</td>\n",
       "      <td>1</td>\n",
       "    </tr>\n",
       "    <tr>\n",
       "      <th>9</th>\n",
       "      <td>D20</td>\n",
       "      <td>3</td>\n",
       "    </tr>\n",
       "  </tbody>\n",
       "</table>\n",
       "</div>"
      ],
      "text/plain": [
       "  icd9_code  total_patients\n",
       "0       D10               1\n",
       "1       D11               2\n",
       "2       D12               2\n",
       "3       D13               2\n",
       "4       D14               1\n",
       "5       D15               1\n",
       "6       D16               1\n",
       "7       D18               1\n",
       "8       D19               1\n",
       "9       D20               3"
      ]
     },
     "execution_count": 66,
     "metadata": {},
     "output_type": "execute_result"
    }
   ],
   "source": [
    "# Calculate mortality rate for each diagnosis type(ICD-9 code)\n",
    "diagnosis_mortality = diagnostic_data.groupby('icd9_code')['subject_id'].count().reset_index()\n",
    "diagnosis_mortality.rename(columns={'subject_id': 'total_patients'}, inplace=True)\n",
    "diagnosis_mortality.head(10)"
   ]
  },
  {
   "cell_type": "code",
   "execution_count": 67,
   "metadata": {
    "colab": {
     "base_uri": "https://localhost:8080/",
     "height": 398
    },
    "id": "xVHIr81puVOE",
    "outputId": "0e04c1f1-9760-40af-b7b5-20631b7d8c96"
   },
   "outputs": [
    {
     "name": "stderr",
     "output_type": "stream",
     "text": [
      "C:\\Users\\amanc\\AppData\\Local\\Temp\\ipykernel_28524\\2014751894.py:2: UserWarning: Boolean Series key will be reindexed to match DataFrame index.\n",
      "  deceased_diagnoses = diagnostic_data[patient_data['expire_flag'] == 1].groupby('icd9_code')['subject_id'].count().reset_index()\n"
     ]
    },
    {
     "data": {
      "text/html": [
       "<div>\n",
       "<style scoped>\n",
       "    .dataframe tbody tr th:only-of-type {\n",
       "        vertical-align: middle;\n",
       "    }\n",
       "\n",
       "    .dataframe tbody tr th {\n",
       "        vertical-align: top;\n",
       "    }\n",
       "\n",
       "    .dataframe thead th {\n",
       "        text-align: right;\n",
       "    }\n",
       "</style>\n",
       "<table border=\"1\" class=\"dataframe\">\n",
       "  <thead>\n",
       "    <tr style=\"text-align: right;\">\n",
       "      <th></th>\n",
       "      <th>icd9_code</th>\n",
       "      <th>deceased_patients</th>\n",
       "    </tr>\n",
       "  </thead>\n",
       "  <tbody>\n",
       "    <tr>\n",
       "      <th>0</th>\n",
       "      <td>D26</td>\n",
       "      <td>1</td>\n",
       "    </tr>\n",
       "    <tr>\n",
       "      <th>1</th>\n",
       "      <td>D40</td>\n",
       "      <td>1</td>\n",
       "    </tr>\n",
       "    <tr>\n",
       "      <th>2</th>\n",
       "      <td>D41</td>\n",
       "      <td>1</td>\n",
       "    </tr>\n",
       "    <tr>\n",
       "      <th>3</th>\n",
       "      <td>D45</td>\n",
       "      <td>1</td>\n",
       "    </tr>\n",
       "    <tr>\n",
       "      <th>4</th>\n",
       "      <td>D50</td>\n",
       "      <td>1</td>\n",
       "    </tr>\n",
       "    <tr>\n",
       "      <th>5</th>\n",
       "      <td>D69</td>\n",
       "      <td>1</td>\n",
       "    </tr>\n",
       "    <tr>\n",
       "      <th>6</th>\n",
       "      <td>D72</td>\n",
       "      <td>1</td>\n",
       "    </tr>\n",
       "    <tr>\n",
       "      <th>7</th>\n",
       "      <td>D83</td>\n",
       "      <td>1</td>\n",
       "    </tr>\n",
       "    <tr>\n",
       "      <th>8</th>\n",
       "      <td>D97</td>\n",
       "      <td>1</td>\n",
       "    </tr>\n",
       "    <tr>\n",
       "      <th>9</th>\n",
       "      <td>D98</td>\n",
       "      <td>1</td>\n",
       "    </tr>\n",
       "  </tbody>\n",
       "</table>\n",
       "</div>"
      ],
      "text/plain": [
       "  icd9_code  deceased_patients\n",
       "0       D26                  1\n",
       "1       D40                  1\n",
       "2       D41                  1\n",
       "3       D45                  1\n",
       "4       D50                  1\n",
       "5       D69                  1\n",
       "6       D72                  1\n",
       "7       D83                  1\n",
       "8       D97                  1\n",
       "9       D98                  1"
      ]
     },
     "execution_count": 67,
     "metadata": {},
     "output_type": "execute_result"
    }
   ],
   "source": [
    "# Finding icd9_code with death patient\n",
    "deceased_diagnoses = diagnostic_data[patient_data['expire_flag'] == 1].groupby('icd9_code')['subject_id'].count().reset_index()\n",
    "deceased_diagnoses.rename(columns={'subject_id': 'deceased_patients'}, inplace=True)\n",
    "deceased_diagnoses"
   ]
  },
  {
   "cell_type": "code",
   "execution_count": 68,
   "metadata": {
    "colab": {
     "base_uri": "https://localhost:8080/"
    },
    "id": "s_cQDyxRdeUI",
    "outputId": "fdc73d55-62f0-4eab-f57b-0936fc58056a"
   },
   "outputs": [
    {
     "name": "stdout",
     "output_type": "stream",
     "text": [
      "Diagnosis Types and Mortality Rates:\n",
      "   icd9_code  mortality_rate\n",
      "24       D45      100.000000\n",
      "28       D50      100.000000\n",
      "50       D83      100.000000\n",
      "57       D97      100.000000\n",
      "12       D26       50.000000\n",
      "20       D41       50.000000\n",
      "43       D72       50.000000\n",
      "58       D98       50.000000\n",
      "41       D69       33.333333\n",
      "19       D40       25.000000\n",
      "0        D10             NaN\n",
      "1        D11             NaN\n",
      "2        D12             NaN\n",
      "3        D13             NaN\n",
      "4        D14             NaN\n",
      "5        D15             NaN\n",
      "6        D16             NaN\n",
      "7        D18             NaN\n",
      "8        D19             NaN\n",
      "9        D20             NaN\n",
      "10       D23             NaN\n",
      "11       D24             NaN\n",
      "13       D29             NaN\n",
      "14       D30             NaN\n",
      "15       D31             NaN\n",
      "16       D32             NaN\n",
      "17       D34             NaN\n",
      "18       D38             NaN\n",
      "21       D42             NaN\n",
      "22       D43             NaN\n",
      "23       D44             NaN\n",
      "25       D46             NaN\n",
      "26       D48             NaN\n",
      "27       D49             NaN\n",
      "29       D51             NaN\n",
      "30       D52             NaN\n",
      "31       D56             NaN\n",
      "32       D57             NaN\n",
      "33       D58             NaN\n",
      "34       D59             NaN\n",
      "35       D61             NaN\n",
      "36       D62             NaN\n",
      "37       D63             NaN\n",
      "38       D66             NaN\n",
      "39       D67             NaN\n",
      "40       D68             NaN\n",
      "42       D70             NaN\n",
      "44       D76             NaN\n",
      "45       D77             NaN\n",
      "46       D78             NaN\n",
      "47       D79             NaN\n",
      "48       D80             NaN\n",
      "49       D81             NaN\n",
      "51       D84             NaN\n",
      "52       D86             NaN\n",
      "53       D87             NaN\n",
      "54       D88             NaN\n",
      "55       D93             NaN\n",
      "56       D96             NaN\n",
      "59       D99             NaN\n"
     ]
    }
   ],
   "source": [
    "# merging diagnosis_mortality & deceased_diagnoses df\n",
    "\n",
    "diagnosis_mortality = diagnosis_mortality.merge(deceased_diagnoses, on='icd9_code', how='left')\n",
    "diagnosis_mortality['mortality_rate'] = (diagnosis_mortality['deceased_patients'] / diagnosis_mortality['total_patients']) * 100\n",
    "\n",
    "# Sort by mortality rate\n",
    "diagnosis_mortality.sort_values(by='mortality_rate', ascending=False, inplace=True)\n",
    "\n",
    "# Print the diagnosis types and their mortality rates\n",
    "print(\"Diagnosis Types and Mortality Rates:\")\n",
    "print(diagnosis_mortality[['icd9_code', 'mortality_rate']])\n",
    "\n"
   ]
  },
  {
   "cell_type": "code",
   "execution_count": 69,
   "metadata": {
    "colab": {
     "base_uri": "https://localhost:8080/",
     "height": 501
    },
    "id": "-n2ZzqsztXZ7",
    "outputId": "daeeaa67-4df0-45c5-be8a-f248bb438031"
   },
   "outputs": [
    {
     "data": {
      "image/png": "[encoded data removed]",
      "text/plain": [
       "<Figure size 1200x600 with 1 Axes>"
      ]
     },
     "metadata": {},
     "output_type": "display_data"
    }
   ],
   "source": [
    "# Visualize Mortality Rate by Diagnosis Type using a bar chart\n",
    "plt.figure(figsize=(12, 6))\n",
    "plt.bar(diagnosis_mortality['icd9_code'], diagnosis_mortality['mortality_rate'], color='g')\n",
    "plt.xlabel('Diagnosis Type (ICD-9 Code)')\n",
    "plt.ylabel('Mortality Rate (%)')\n",
    "plt.title('Mortality Rate by Diagnosis Type')\n",
    "plt.xticks(rotation=90)\n",
    "plt.tight_layout()\n",
    "plt.show()"
   ]
  },
  {
   "cell_type": "markdown",
   "metadata": {},
   "source": [
    "# Question 5: Age of Patients with Common Diagnoses\n",
    "### Using the diagnostic codes from Question 3, calculate the average age of patients for each of the top 3 common diagnosis codes. Visualize this information using a bar chart."
   ]
  },
  {
   "cell_type": "code",
   "execution_count": 70,
   "metadata": {},
   "outputs": [],
   "source": [
    "# Age column is missing in Dataset."
   ]
  },
  {
   "cell_type": "markdown",
   "metadata": {
    "id": "ioAjGBbgnqiJ"
   },
   "source": [
    "# Question 6: Drug Prescription Trends\n",
    "### Identify the top 5 most prescribed drug codes across all patients. Provide the drug codes along with their descriptions and the total number of times they were prescribed. Visualize this information using a horizontal bar chart."
   ]
  },
  {
   "cell_type": "code",
   "execution_count": 71,
   "metadata": {
    "colab": {
     "base_uri": "https://localhost:8080/"
    },
    "id": "HwlumngcrEv8",
    "outputId": "631e86c8-ae1e-4d22-a795-acac5e5174f5"
   },
   "outputs": [
    {
     "data": {
      "text/plain": [
       "124    4\n",
       "197    2\n",
       "181    2\n",
       "177    2\n",
       "119    2\n",
       "Name: drg_code, dtype: int64"
      ]
     },
     "execution_count": 71,
     "metadata": {},
     "output_type": "execute_result"
    }
   ],
   "source": [
    "# Calculate the top 5 most prescribed drug codes\n",
    "top_prescribed_drugs = drug_data['drg_code'].value_counts().head(5)\n",
    "top_prescribed_drugs"
   ]
  },
  {
   "cell_type": "code",
   "execution_count": 72,
   "metadata": {
    "colab": {
     "base_uri": "https://localhost:8080/",
     "height": 426
    },
    "id": "agrOx7cRr7Vj",
    "outputId": "df92caa5-786f-4ce2-c001-e7e215bdd897"
   },
   "outputs": [
    {
     "data": {
      "text/html": [
       "<div>\n",
       "<style scoped>\n",
       "    .dataframe tbody tr th:only-of-type {\n",
       "        vertical-align: middle;\n",
       "    }\n",
       "\n",
       "    .dataframe tbody tr th {\n",
       "        vertical-align: top;\n",
       "    }\n",
       "\n",
       "    .dataframe thead th {\n",
       "        text-align: right;\n",
       "    }\n",
       "</style>\n",
       "<table border=\"1\" class=\"dataframe\">\n",
       "  <thead>\n",
       "    <tr style=\"text-align: right;\">\n",
       "      <th></th>\n",
       "      <th>row_id</th>\n",
       "      <th>subject_id</th>\n",
       "      <th>hadm_id</th>\n",
       "      <th>drg_type</th>\n",
       "      <th>drg_code</th>\n",
       "      <th>description</th>\n",
       "      <th>drg_severity</th>\n",
       "      <th>drg_mortality</th>\n",
       "    </tr>\n",
       "  </thead>\n",
       "  <tbody>\n",
       "    <tr>\n",
       "      <th>2</th>\n",
       "      <td>3</td>\n",
       "      <td>3</td>\n",
       "      <td>1054</td>\n",
       "      <td>Type A</td>\n",
       "      <td>181</td>\n",
       "      <td>Drug 3</td>\n",
       "      <td>Medium</td>\n",
       "      <td>Medium</td>\n",
       "    </tr>\n",
       "    <tr>\n",
       "      <th>3</th>\n",
       "      <td>4</td>\n",
       "      <td>73</td>\n",
       "      <td>1911</td>\n",
       "      <td>Type A</td>\n",
       "      <td>177</td>\n",
       "      <td>Drug 4</td>\n",
       "      <td>High</td>\n",
       "      <td>Low</td>\n",
       "    </tr>\n",
       "    <tr>\n",
       "      <th>4</th>\n",
       "      <td>5</td>\n",
       "      <td>8</td>\n",
       "      <td>1011</td>\n",
       "      <td>Type A</td>\n",
       "      <td>119</td>\n",
       "      <td>Drug 5</td>\n",
       "      <td>High</td>\n",
       "      <td>Medium</td>\n",
       "    </tr>\n",
       "    <tr>\n",
       "      <th>5</th>\n",
       "      <td>6</td>\n",
       "      <td>97</td>\n",
       "      <td>1656</td>\n",
       "      <td>Type A</td>\n",
       "      <td>181</td>\n",
       "      <td>Drug 6</td>\n",
       "      <td>High</td>\n",
       "      <td>High</td>\n",
       "    </tr>\n",
       "    <tr>\n",
       "      <th>7</th>\n",
       "      <td>8</td>\n",
       "      <td>41</td>\n",
       "      <td>1907</td>\n",
       "      <td>Type A</td>\n",
       "      <td>124</td>\n",
       "      <td>Drug 8</td>\n",
       "      <td>Low</td>\n",
       "      <td>Medium</td>\n",
       "    </tr>\n",
       "    <tr>\n",
       "      <th>9</th>\n",
       "      <td>10</td>\n",
       "      <td>13</td>\n",
       "      <td>1979</td>\n",
       "      <td>Type B</td>\n",
       "      <td>124</td>\n",
       "      <td>Drug 10</td>\n",
       "      <td>Medium</td>\n",
       "      <td>Low</td>\n",
       "    </tr>\n",
       "    <tr>\n",
       "      <th>23</th>\n",
       "      <td>24</td>\n",
       "      <td>44</td>\n",
       "      <td>1363</td>\n",
       "      <td>Type B</td>\n",
       "      <td>124</td>\n",
       "      <td>Drug 24</td>\n",
       "      <td>High</td>\n",
       "      <td>Medium</td>\n",
       "    </tr>\n",
       "    <tr>\n",
       "      <th>25</th>\n",
       "      <td>26</td>\n",
       "      <td>3</td>\n",
       "      <td>1632</td>\n",
       "      <td>Type B</td>\n",
       "      <td>197</td>\n",
       "      <td>Drug 26</td>\n",
       "      <td>Low</td>\n",
       "      <td>Low</td>\n",
       "    </tr>\n",
       "    <tr>\n",
       "      <th>28</th>\n",
       "      <td>29</td>\n",
       "      <td>2</td>\n",
       "      <td>1083</td>\n",
       "      <td>Type B</td>\n",
       "      <td>197</td>\n",
       "      <td>Drug 29</td>\n",
       "      <td>High</td>\n",
       "      <td>Low</td>\n",
       "    </tr>\n",
       "    <tr>\n",
       "      <th>30</th>\n",
       "      <td>31</td>\n",
       "      <td>44</td>\n",
       "      <td>1405</td>\n",
       "      <td>Type B</td>\n",
       "      <td>124</td>\n",
       "      <td>Drug 31</td>\n",
       "      <td>Low</td>\n",
       "      <td>Low</td>\n",
       "    </tr>\n",
       "    <tr>\n",
       "      <th>41</th>\n",
       "      <td>42</td>\n",
       "      <td>36</td>\n",
       "      <td>1508</td>\n",
       "      <td>Type A</td>\n",
       "      <td>177</td>\n",
       "      <td>Drug 42</td>\n",
       "      <td>High</td>\n",
       "      <td>Medium</td>\n",
       "    </tr>\n",
       "    <tr>\n",
       "      <th>42</th>\n",
       "      <td>43</td>\n",
       "      <td>69</td>\n",
       "      <td>1653</td>\n",
       "      <td>Type B</td>\n",
       "      <td>119</td>\n",
       "      <td>Drug 43</td>\n",
       "      <td>Medium</td>\n",
       "      <td>High</td>\n",
       "    </tr>\n",
       "  </tbody>\n",
       "</table>\n",
       "</div>"
      ],
      "text/plain": [
       "    row_id  subject_id  hadm_id drg_type  drg_code description drg_severity  \\\n",
       "2        3           3     1054   Type A       181      Drug 3       Medium   \n",
       "3        4          73     1911   Type A       177      Drug 4         High   \n",
       "4        5           8     1011   Type A       119      Drug 5         High   \n",
       "5        6          97     1656   Type A       181      Drug 6         High   \n",
       "7        8          41     1907   Type A       124      Drug 8          Low   \n",
       "9       10          13     1979   Type B       124     Drug 10       Medium   \n",
       "23      24          44     1363   Type B       124     Drug 24         High   \n",
       "25      26           3     1632   Type B       197     Drug 26          Low   \n",
       "28      29           2     1083   Type B       197     Drug 29         High   \n",
       "30      31          44     1405   Type B       124     Drug 31          Low   \n",
       "41      42          36     1508   Type A       177     Drug 42         High   \n",
       "42      43          69     1653   Type B       119     Drug 43       Medium   \n",
       "\n",
       "   drg_mortality  \n",
       "2         Medium  \n",
       "3            Low  \n",
       "4         Medium  \n",
       "5           High  \n",
       "7         Medium  \n",
       "9            Low  \n",
       "23        Medium  \n",
       "25           Low  \n",
       "28           Low  \n",
       "30           Low  \n",
       "41        Medium  \n",
       "42          High  "
      ]
     },
     "execution_count": 72,
     "metadata": {},
     "output_type": "execute_result"
    }
   ],
   "source": [
    "# Top drug_ with their discription\n",
    "top_drugs_data = drug_data[drug_data['drg_code'].isin(top_prescribed_drugs.index)]\n",
    "top_drugs_data"
   ]
  },
  {
   "cell_type": "code",
   "execution_count": 73,
   "metadata": {
    "colab": {
     "base_uri": "https://localhost:8080/",
     "height": 426
    },
    "id": "6pYTfpZatDcc",
    "outputId": "fc1eab4c-49c4-480a-e60d-5b636c027923"
   },
   "outputs": [
    {
     "data": {
      "text/html": [
       "<div>\n",
       "<style scoped>\n",
       "    .dataframe tbody tr th:only-of-type {\n",
       "        vertical-align: middle;\n",
       "    }\n",
       "\n",
       "    .dataframe tbody tr th {\n",
       "        vertical-align: top;\n",
       "    }\n",
       "\n",
       "    .dataframe thead th {\n",
       "        text-align: right;\n",
       "    }\n",
       "</style>\n",
       "<table border=\"1\" class=\"dataframe\">\n",
       "  <thead>\n",
       "    <tr style=\"text-align: right;\">\n",
       "      <th></th>\n",
       "      <th>drg_code</th>\n",
       "      <th>description</th>\n",
       "      <th>prescription_count</th>\n",
       "    </tr>\n",
       "  </thead>\n",
       "  <tbody>\n",
       "    <tr>\n",
       "      <th>0</th>\n",
       "      <td>119</td>\n",
       "      <td>Drug 43</td>\n",
       "      <td>1</td>\n",
       "    </tr>\n",
       "    <tr>\n",
       "      <th>1</th>\n",
       "      <td>119</td>\n",
       "      <td>Drug 5</td>\n",
       "      <td>1</td>\n",
       "    </tr>\n",
       "    <tr>\n",
       "      <th>2</th>\n",
       "      <td>124</td>\n",
       "      <td>Drug 10</td>\n",
       "      <td>1</td>\n",
       "    </tr>\n",
       "    <tr>\n",
       "      <th>3</th>\n",
       "      <td>124</td>\n",
       "      <td>Drug 24</td>\n",
       "      <td>1</td>\n",
       "    </tr>\n",
       "    <tr>\n",
       "      <th>4</th>\n",
       "      <td>124</td>\n",
       "      <td>Drug 31</td>\n",
       "      <td>1</td>\n",
       "    </tr>\n",
       "    <tr>\n",
       "      <th>5</th>\n",
       "      <td>124</td>\n",
       "      <td>Drug 8</td>\n",
       "      <td>1</td>\n",
       "    </tr>\n",
       "    <tr>\n",
       "      <th>6</th>\n",
       "      <td>177</td>\n",
       "      <td>Drug 4</td>\n",
       "      <td>1</td>\n",
       "    </tr>\n",
       "    <tr>\n",
       "      <th>7</th>\n",
       "      <td>177</td>\n",
       "      <td>Drug 42</td>\n",
       "      <td>1</td>\n",
       "    </tr>\n",
       "    <tr>\n",
       "      <th>8</th>\n",
       "      <td>181</td>\n",
       "      <td>Drug 3</td>\n",
       "      <td>1</td>\n",
       "    </tr>\n",
       "    <tr>\n",
       "      <th>9</th>\n",
       "      <td>181</td>\n",
       "      <td>Drug 6</td>\n",
       "      <td>1</td>\n",
       "    </tr>\n",
       "    <tr>\n",
       "      <th>10</th>\n",
       "      <td>197</td>\n",
       "      <td>Drug 26</td>\n",
       "      <td>1</td>\n",
       "    </tr>\n",
       "    <tr>\n",
       "      <th>11</th>\n",
       "      <td>197</td>\n",
       "      <td>Drug 29</td>\n",
       "      <td>1</td>\n",
       "    </tr>\n",
       "  </tbody>\n",
       "</table>\n",
       "</div>"
      ],
      "text/plain": [
       "    drg_code description  prescription_count\n",
       "0        119     Drug 43                   1\n",
       "1        119      Drug 5                   1\n",
       "2        124     Drug 10                   1\n",
       "3        124     Drug 24                   1\n",
       "4        124     Drug 31                   1\n",
       "5        124      Drug 8                   1\n",
       "6        177      Drug 4                   1\n",
       "7        177     Drug 42                   1\n",
       "8        181      Drug 3                   1\n",
       "9        181      Drug 6                   1\n",
       "10       197     Drug 26                   1\n",
       "11       197     Drug 29                   1"
      ]
     },
     "execution_count": 73,
     "metadata": {},
     "output_type": "execute_result"
    }
   ],
   "source": [
    "# Group by drug code and description to get the total count\n",
    "grouped_drugs = top_drugs_data.groupby(['drg_code', 'description']).size().reset_index(name='prescription_count')\n",
    "grouped_drugs"
   ]
  },
  {
   "cell_type": "code",
   "execution_count": 74,
   "metadata": {
    "colab": {
     "base_uri": "https://localhost:8080/",
     "height": 601
    },
    "id": "ifVgY1CFnuRK",
    "outputId": "78efbecb-9456-433e-af46-de79e829cc71"
   },
   "outputs": [
    {
     "data": {
      "image/png": "[encoded data removed]",
      "text/plain": [
       "<Figure size 1000x600 with 1 Axes>"
      ]
     },
     "metadata": {},
     "output_type": "display_data"
    }
   ],
   "source": [
    "# Visualize Top 5 Most Prescribed Drug Codes using a horizontal bar chart\n",
    "plt.figure(figsize=(10, 6))\n",
    "plt.barh(grouped_drugs['drg_code'], grouped_drugs['prescription_count'])\n",
    "plt.xlabel('Number of Prescriptions')\n",
    "plt.ylabel('Drug Code')\n",
    "plt.title('Top 5 Most Prescribed Drug Codes')\n",
    "plt.tight_layout()\n",
    "plt.show()"
   ]
  },
  {
   "cell_type": "markdown",
   "metadata": {
    "id": "AciY0cr4xFI8"
   },
   "source": [
    "## Question 7: Gender Disparity in Critical Diagnoses\n",
    "### Analyze the gender distribution among patients with critical diagnoses (diagnosis codes associated with high severity). Calculate the percentage of male and female patients among these critical cases. Visualize this information using a stacked bar chart."
   ]
  },
  {
   "cell_type": "code",
   "execution_count": 75,
   "metadata": {
    "colab": {
     "base_uri": "https://localhost:8080/"
    },
    "id": "vxLW4u6UynYm",
    "outputId": "7d8235c0-be22-4129-bdbb-4dd255706736"
   },
   "outputs": [
    {
     "data": {
      "text/plain": [
       "F    0.5625\n",
       "M    0.4375\n",
       "Name: gender, dtype: float64"
      ]
     },
     "execution_count": 75,
     "metadata": {},
     "output_type": "execute_result"
    }
   ],
   "source": [
    "# Identify diagnosis codes associated with high severity\n",
    "high_severity_diagnoses = ['D81', 'D66', 'D80']  # Example critical diagnosis codes\n",
    "\n",
    "# Filter diagnostic_code DataFrame for critical diagnoses\n",
    "critical_diagnoses = diagnostic_data[diagnostic_data['icd9_code'].isin(high_severity_diagnoses)]\n",
    "\n",
    "# Merge with patient_data to get gender information\n",
    "critical_diagnoses_gender = critical_diagnoses.merge(patient_data[['subject_id', 'gender']], on='subject_id', how='inner')\n",
    "\n",
    "# Calculate gender distribution\n",
    "gender_distribution = critical_diagnoses_gender['gender'].value_counts(normalize=True)\n",
    "gender_distribution"
   ]
  },
  {
   "cell_type": "code",
   "execution_count": 80,
   "metadata": {
    "colab": {
     "base_uri": "https://localhost:8080/",
     "height": 601
    },
    "id": "Jmu2tDbLyxJK",
    "outputId": "b81fabc4-0099-4092-8f5a-4e6b3ddd8de6"
   },
   "outputs": [
    {
     "data": {
      "image/png": "[encoded data removed]",
      "text/plain": [
       "<Figure size 1000x800 with 1 Axes>"
      ]
     },
     "metadata": {},
     "output_type": "display_data"
    }
   ],
   "source": [
    "# Creating a stacked bar chart\n",
    "plt.figure(figsize=(10, 8))\n",
    "colors = ['pink', 'blue']\n",
    "plt.bar(gender_distribution.index, gender_distribution.values, color=colors)\n",
    "plt.xlabel('Gender')\n",
    "plt.ylabel('Percentage')\n",
    "plt.title('Gender Distribution among Patients with Critical Diagnoses')\n",
    "plt.legend(['Female','Male'])\n",
    "plt.tight_layout()\n",
    "plt.show()"
   ]
  },
  {
   "cell_type": "markdown",
   "metadata": {},
   "source": [
    "# Conclusion\n",
    "\n",
    "The comprehensive analysis of hospital patient data offers valuable insights into patient demographics, drug prescriptions, diagnoses, and mortality rates. These insights can inform healthcare decision-making, resource allocation, and intervention strategies, ultimately enhancing patient care and outcomes. Incorporating additional data elements, such as age information, could further enrich the analysis and provide deeper insights into patient characteristics and healthcare dynamics.\n"
   ]
  },
  {
   "cell_type": "code",
   "execution_count": null,
   "metadata": {},
   "outputs": [],
   "source": []
  }
 ],
 "metadata": {
  "colab": {
   "provenance": []
  },
  "kernelspec": {
   "display_name": "Python 3 (ipykernel)",
   "language": "python",
   "name": "python3"
  },
  "language_info": {
   "codemirror_mode": {
    "name": "ipython",
    "version": 3
   },
   "file_extension": ".py",
   "mimetype": "text/x-python",
   "name": "python",
   "nbconvert_exporter": "python",
   "pygments_lexer": "ipython3",
   "version": "3.9.13"
  }
 },
 "nbformat": 4,
 "nbformat_minor": 1
}
